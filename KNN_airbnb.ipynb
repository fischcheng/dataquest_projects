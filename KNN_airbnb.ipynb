{
 "cells": [
  {
   "cell_type": "code",
   "execution_count": null,
   "metadata": {},
   "outputs": [],
   "source": [
    "import pandas as pd\n",
    "dc_listings=pd.read_csv('dc_airbnb.csv')\n",
    "print(dc_listings.head(1))"
   ]
  },
  {
   "cell_type": "code",
   "execution_count": null,
   "metadata": {},
   "outputs": [],
   "source": [
    "import numpy as np\n",
    "def eu_dist(feature):\n",
    "    dist=np.sqrt((feature-3)**2)\n",
    "    return dist\n",
    "first_distance=eu_dist(dc_listings['accommodates'].iloc[0])\n",
    "#dc_listings['accommodates'].apply(eu_dist).loc[1]"
   ]
  },
  {
   "cell_type": "code",
   "execution_count": null,
   "metadata": {},
   "outputs": [],
   "source": [
    "import numpy as np\n",
    "def eu_dist(feature):\n",
    "    dist=np.abs(feature-3)\n",
    "    return int(dist)\n",
    "first_distance=eu_dist(dc_listings['accommodates'].iloc[0])\n",
    "dc_listings['distance']=dc_listings['accommodates'].apply(eu_dist)\n",
    "\n",
    "print(dc_listings['distance'].value_counts)"
   ]
  },
  {
   "cell_type": "code",
   "execution_count": null,
   "metadata": {},
   "outputs": [],
   "source": [
    "import numpy as np\n",
    "np.random.seed(1)\n",
    "dc_listings = dc_listings.loc[np.random.permutation(len(dc_listings))]\n",
    "dc_listings = dc_listings.sort_values('distance')\n",
    "print(dc_listings.iloc[0:10]['price'])"
   ]
  },
  {
   "cell_type": "code",
   "execution_count": null,
   "metadata": {},
   "outputs": [],
   "source": [
    "import pandas as pd\n",
    "stripped_commas = dc_listings['price'].str.replace(',', '')\n",
    "nodollar=stripped_commas.str.replace('$', '')\n",
    "\n",
    "dc_listings['price']=pd.to_numeric(nodollar)\n",
    "mean_price=dc_listings['price'].iloc[0:5].mean()\n",
    "print(mean_price)\n",
    "\n"
   ]
  },
  {
   "cell_type": "code",
   "execution_count": null,
   "metadata": {},
   "outputs": [],
   "source": [
    "# Brought along the changes we made to the `dc_listings` Dataframe.\n",
    "dc_listings = pd.read_csv('dc_airbnb.csv')\n",
    "stripped_commas = dc_listings['price'].str.replace(',', '')\n",
    "stripped_dollars = stripped_commas.str.replace('$', '')\n",
    "dc_listings['price'] = stripped_dollars.astype('float')\n",
    "dc_listings = dc_listings.loc[np.random.permutation(len(dc_listings))]\n",
    "\n",
    "def predict_price(new_listing):\n",
    "    temp_df = dc_listings.copy()\n",
    "    ## Complete the function.\n",
    "    temp_df['distance']=temp_df.accommodates.apply(lambda x: np.abs(x-new_listing))\n",
    "    predict_price=temp_df.sort_values('distance').iloc[0:5].mean()\n",
    "    return(predict_price)\n",
    "\n",
    "acc_one = predict_price(1)\n",
    "acc_two = predict_price(2)\n",
    "acc_four = predict_price(4)"
   ]
  },
  {
   "cell_type": "code",
   "execution_count": null,
   "metadata": {},
   "outputs": [],
   "source": [
    "import pandas as pd\n",
    "import numpy as np\n",
    "dc_listings = pd.read_csv(\"dc_airbnb.csv\")\n",
    "stripped_commas = dc_listings['price'].str.replace(',', '')\n",
    "stripped_dollars = stripped_commas.str.replace('$', '')\n",
    "dc_listings['price'] = stripped_dollars.astype('float')\n",
    "train_df = dc_listings.iloc[0:2792]\n",
    "test_df = dc_listings.iloc[2792:]\n",
    "\n",
    "def predict_price(new_listing):\n",
    "    ## DataFrame.copy() performs a deep copy\n",
    "    temp_df = train_df.copy()\n",
    "    temp_df['distance'] = temp_df['accommodates'].apply(lambda x: np.abs(x - new_listing))\n",
    "    temp_df = temp_df.sort_values('distance')\n",
    "    nearest_neighbor_prices = temp_df.iloc[0:5]['price']\n",
    "    predicted_price = nearest_neighbor_prices.mean()\n",
    "    return(predicted_price)\n",
    "\n",
    "test_df['predicted_price']=test_df.accommodates.apply(predict_price)"
   ]
  },
  {
   "cell_type": "code",
   "execution_count": null,
   "metadata": {},
   "outputs": [],
   "source": [
    "mae=np.sum(np.absolute(test_df['predicted_price']-test_df['price']))/len(test_df)"
   ]
  },
  {
   "cell_type": "code",
   "execution_count": null,
   "metadata": {},
   "outputs": [],
   "source": [
    "mse=np.sum((test_df['predicted_price']-test_df['price'])**2)/len(test_df)"
   ]
  },
  {
   "cell_type": "code",
   "execution_count": null,
   "metadata": {},
   "outputs": [],
   "source": [
    "# Use Bathrooms to train the model instead\n",
    "train_df = dc_listings.iloc[0:2792]\n",
    "test_df = dc_listings.iloc[2792:]\n",
    "\n",
    "def predict_price(new_listing):\n",
    "    temp_df = train_df.copy()\n",
    "    temp_df['distance'] = temp_df['bathrooms'].apply(lambda x: np.abs(x - new_listing))\n",
    "    temp_df = temp_df.sort_values('distance')\n",
    "    nearest_neighbors_prices = temp_df.iloc[0:5]['price']\n",
    "    predicted_price = nearest_neighbors_prices.mean()\n",
    "    return(predicted_price)\n",
    "\n",
    "test_df['predicted_price']=test_df['bathrooms'].apply(predict_price)\n",
    "\n",
    "test_df['squared_error']=(test_df['predicted_price']-test_df['price'])**2\n",
    "\n",
    "mse=test_df['squared_error'].mean()\n",
    "print(mse)"
   ]
  },
  {
   "cell_type": "code",
   "execution_count": null,
   "metadata": {},
   "outputs": [],
   "source": [
    "errors_one = pd.Series([5, 10, 5, 10, 5, 10, 5, 10, 5, 10, 5, 10, 5, 10, 5, 10, 5, 10])\n",
    "errors_two = pd.Series([5, 10, 5, 10, 5, 10, 5, 10, 5, 10, 5, 10, 5, 10, 5, 10, 5, 1000])\n",
    "\n",
    "mae_one=np.sum(errors_one.mean())\n",
    "rmse_one=np.sqrt(np.sum((errors_one**2).mean()))\n",
    "\n",
    "mae_two=np.sum(errors_two.mean())\n",
    "rmse_two=np.sqrt(np.sum((errors_two**2).mean()))"
   ]
  },
  {
   "cell_type": "markdown",
   "metadata": {},
   "source": [
    "### Notes\n",
    "* Separate dataset to train/test (or cross-validation)\n",
    "* define a test measure (Mean Absolute Error, Mean Squared Error, Root Mean squared Error)\n"
   ]
  },
  {
   "cell_type": "markdown",
   "metadata": {},
   "source": [
    "### Change parameters improve model performance\n",
    "* change K number of neighbors\n",
    "* change features used (instead of single feature like accomodares or bathrooms) >> some columns can't work with distance functions, for missing values, non-numeric entries and non-ordinal values"
   ]
  },
  {
   "cell_type": "code",
   "execution_count": null,
   "metadata": {},
   "outputs": [],
   "source": [
    "# Remove the non-numeric, non-ordinal columns\n",
    "drop_columns=[\"room_type\",\"city\",\"state\",\"latitude\",\"longitude\",\"zipcode\",\"host_acceptance_rate\",\"host_listings_count\",\"host_response_rate\"]\n",
    "\n",
    "dc_listings=dc_listings.drop(drop_columns,axis=1)\n",
    "print(dc_listings.isnull().sum())"
   ]
  },
  {
   "cell_type": "code",
   "execution_count": null,
   "metadata": {},
   "outputs": [],
   "source": [
    "# Remove the columns filled with missing values\n",
    "drop_columns=['cleaning_fee','security_deposit']\n",
    "dc_listings=dc_listings.drop(drop_columns,axis=1)\n",
    "\n",
    "dc_listings=dc_listings.dropna(axis=0)\n",
    "print(dc_listings.isnull().sum())"
   ]
  },
  {
   "cell_type": "code",
   "execution_count": null,
   "metadata": {},
   "outputs": [],
   "source": [
    "# Normalize some columns with large range:\n",
    "normalized_listings=(dc_listings-dc_listings.mean())/dc_listings.std()\n",
    "normalized_listings['price']=dc_listings['price']\n",
    "normalized_listings.head(3)"
   ]
  },
  {
   "cell_type": "code",
   "execution_count": null,
   "metadata": {},
   "outputs": [],
   "source": [
    "# Use scipy.distance.euclidean\n",
    "from scipy.spatial import distance\n",
    "\n",
    "first=normalized_listings.iloc[0][['accommodates','bathrooms']]\n",
    "fifth=normalized_listings.iloc[4][['accommodates','bathrooms']]\n",
    "first_fifth_distance=distance.euclidean(first,fifth)\n",
    "print(first_fifth_distance)"
   ]
  },
  {
   "cell_type": "markdown",
   "metadata": {},
   "source": [
    "### Use Scikit learn to speed things up\n",
    "The scikit-learn workflow consists of 4 main steps:\n",
    "* instantiate the specific machine learning model you want to use\n",
    "* fit the model to the training data\n",
    "* use the model to make predictions\n",
    "* evaluate the accuracy of the predictions\n",
    "\n",
    "Any model that helps us predict numerical values, like listing price in our case, is known as a regression model. The other main class of machine learning models is called classification, where we're trying to predict a label from a fixed set of labels (e.g. blood type or gender). The word regressor from the class name KNeighborsRegressor refers to the regression model class that we just discussed.\n",
    "\n",
    "#### fit method takes in 2 required parameters:\n",
    "* matrix-like object, containing the feature columns we want to use from the training set.\n",
    "* list-like object, containing correct target values."
   ]
  },
  {
   "cell_type": "code",
   "execution_count": null,
   "metadata": {},
   "outputs": [],
   "source": [
    "# Do the same stuffs we did above with scikit-learn\n",
    "from sklearn.neighbors import KNeighborsRegressor\n",
    "\n",
    "train_df = normalized_listings.iloc[0:2792]\n",
    "test_df = normalized_listings.iloc[2792:]\n",
    "\n",
    "knn=KNeighborsRegressor(n_neighbors=5, algorithm=\"brute\")\n",
    "knn.fit(train_df[[\"accommodates\",\"bathrooms\"]],train_df['price'])\n",
    "\n",
    "predictions=knn.predict(test_df[['accommodates','bathrooms']])"
   ]
  },
  {
   "cell_type": "code",
   "execution_count": null,
   "metadata": {},
   "outputs": [],
   "source": [
    "from sklearn.metrics import mean_squared_error\n",
    "import numpy as np\n",
    "\n",
    "columns = ['accommodates', 'bathrooms']\n",
    "knn = KNeighborsRegressor(n_neighbors=5, algorithm='brute', metric='euclidean')\n",
    "knn.fit(train_df[train_columns], train_df['price'])\n",
    "predictions = knn.predict(test_df[train_columns])\n",
    "\n",
    "\n",
    "two_features_mse=mean_squared_error(test_df['price'],predictions)\n",
    "two_features_rmse=np.sqrt(two_features_mse)\n",
    "\n",
    "print(two_features_mse,two_features_rmse)"
   ]
  },
  {
   "cell_type": "code",
   "execution_count": null,
   "metadata": {},
   "outputs": [],
   "source": [
    "# Use four features:\n",
    "\n",
    "from sklearn.neighbors import KNeighborsRegressor\n",
    "from sklearn.metrics import mean_squared_error\n",
    "import numpy as np\n",
    "\n",
    "knn = KNeighborsRegressor(n_neighbors=5, algorithm='brute')\n",
    "\n",
    "features = ['accommodates', 'bedrooms', 'bathrooms', 'number_of_reviews']\n",
    "knn = KNeighborsRegressor(n_neighbors=5, algorithm='brute', metric='euclidean')\n",
    "knn.fit(train_df[features], train_df['price'])\n",
    "four_predictions = knn.predict(test_df[features])\n",
    "\n",
    "\n",
    "four_mse=mean_squared_error(test_df['price'],four_predictions)\n",
    "four_rmse=np.sqrt(four_mse)\n",
    "\n",
    "print(four_mse,four_rmse)\n",
    "\n",
    "\n"
   ]
  },
  {
   "cell_type": "code",
   "execution_count": null,
   "metadata": {},
   "outputs": [],
   "source": [
    "# Use all available features\n",
    "from sklearn.neighbors import KNeighborsRegressor\n",
    "from sklearn.metrics import mean_squared_error\n",
    "import numpy as np\n",
    "\n",
    "knn = KNeighborsRegressor(n_neighbors=5, algorithm='brute')\n",
    "\n",
    "features = train_df.columns.tolist()\n",
    "features.remove(\"price\")\n",
    "knn = KNeighborsRegressor(n_neighbors=5, algorithm='brute', metric='euclidean')\n",
    "knn.fit(train_df[features], train_df['price'])\n",
    "all_predictions = knn.predict(test_df[features])\n",
    "\n",
    "\n",
    "all_features_mse=mean_squared_error(test_df['price'],all_predictions)\n",
    "all_features_rmse=np.sqrt(all_features_mse)\n",
    "\n",
    "print(all_features_mse,all_features_rmse)"
   ]
  },
  {
   "cell_type": "markdown",
   "metadata": {},
   "source": [
    "### Lesson\n",
    "Interestingly enough, the RMSE value actually increased to 125.1 when we used all of the features available to us. This means that selecting the right features is important and that using more features doesn't automatically improve prediction accuracy. \n",
    "\n",
    "##### The importance of feature selection."
   ]
  },
  {
   "cell_type": "markdown",
   "metadata": {},
   "source": [
    "### Hyperparameter tuning\n",
    "* Grid Search: looping through a list of values of parameter to find the one performs the best\n"
   ]
  },
  {
   "cell_type": "code",
   "execution_count": null,
   "metadata": {},
   "outputs": [],
   "source": [
    "import pandas as pd\n",
    "\n",
    "train_df=pd.read_csv('dc_airbnb_train.csv')\n",
    "test_df=pd.read_csv('dc_airbnb_test.csv')"
   ]
  },
  {
   "cell_type": "code",
   "execution_count": null,
   "metadata": {},
   "outputs": [],
   "source": [
    "from sklearn.neighbors import KNeighborsRegressor\n",
    "from sklearn.metrics import mean_squared_error\n",
    "\n",
    "hyper_params=[1,2,3,4,5]\n",
    "mse_values=[]\n",
    "\n",
    "for k in hyper_params:\n",
    "    knn=KNeighborsRegressor(n_neighbors=k,algorithm='brute')\n",
    "    knn.fit(train_df[['accommodates','bedrooms','bathrooms','number_of_reviews']],train_df['price'])\n",
    "    predictions=knn.predict(test_df[['accommodates','bedrooms','bathrooms','number_of_reviews']])\n",
    "    mse_values.append(mean_squared_error(test_df['price'],predictions))\n",
    "    \n",
    "print(mse_values)"
   ]
  },
  {
   "cell_type": "code",
   "execution_count": null,
   "metadata": {},
   "outputs": [],
   "source": [
    "from sklearn.neighbors import KNeighborsRegressor\n",
    "from sklearn.metrics import mean_squared_error\n",
    "\n",
    "mse_values=[]\n",
    "\n",
    "for k in range(20):\n",
    "    knn=KNeighborsRegressor(n_neighbors=k+1,algorithm='brute')\n",
    "    knn.fit(train_df[['accommodates','bedrooms','bathrooms','number_of_reviews']],train_df['price'])\n",
    "    predictions=knn.predict(test_df[['accommodates','bedrooms','bathrooms','number_of_reviews']])\n",
    "    mse_values.append(mean_squared_error(test_df['price'],predictions))\n",
    "    \n",
    "print(mse_values)"
   ]
  },
  {
   "cell_type": "code",
   "execution_count": null,
   "metadata": {},
   "outputs": [],
   "source": [
    "import matplotlib.pyplot as plt\n",
    "%matplotlib inline\n",
    "\n",
    "features = ['accommodates', 'bedrooms', 'bathrooms', 'number_of_reviews']\n",
    "hyper_params = [x for x in range(1, 21)]\n",
    "mse_values = list()\n",
    "\n",
    "for hp in hyper_params:\n",
    "    knn = KNeighborsRegressor(n_neighbors=hp, algorithm='brute')\n",
    "    knn.fit(train_df[features], train_df['price'])\n",
    "    predictions = knn.predict(test_df[features])\n",
    "    mse = mean_squared_error(test_df['price'], predictions)\n",
    "    mse_values.append(mse)\n",
    "    \n",
    "plt.scatter(hyper_params,mse_values)\n",
    "plt.show()"
   ]
  },
  {
   "cell_type": "code",
   "execution_count": null,
   "metadata": {},
   "outputs": [],
   "source": [
    "# Use all features other than price\n",
    "import matplotlib.pyplot as plt\n",
    "%matplotlib inline\n",
    "\n",
    "features = train_df.columns.tolist()\n",
    "features.remove(\"price\")\n",
    "hyper_params = [x for x in range(1,21)]\n",
    "mse_values = list()\n",
    "\n",
    "for hp in hyper_params:\n",
    "    knn = KNeighborsRegressor(n_neighbors=hp, algorithm='brute')\n",
    "    knn.fit(train_df[features], train_df['price'])\n",
    "    predictions = knn.predict(test_df[features])\n",
    "    mse = mean_squared_error(test_df['price'], predictions)\n",
    "    mse_values.append(mse)\n",
    "    \n",
    "plt.scatter(hyper_params,mse_values)\n",
    "plt.show()\n"
   ]
  },
  {
   "cell_type": "code",
   "execution_count": null,
   "metadata": {},
   "outputs": [],
   "source": [
    "two_features = ['accommodates', 'bathrooms']\n",
    "three_features = ['accommodates', 'bathrooms', 'bedrooms']\n",
    "hyper_params = [x for x in range(1,21)]\n",
    "# Append the first model's MSE values to this list.\n",
    "two_mse_values = list()\n",
    "\n",
    "for hp in hyper_params:\n",
    "    knn = KNeighborsRegressor(n_neighbors=hp, algorithm='brute')\n",
    "    knn.fit(train_df[two_features], train_df['price'])\n",
    "    predictions = knn.predict(test_df[two_features])\n",
    "    mse = mean_squared_error(test_df['price'], predictions)\n",
    "    two_mse_values.append(mse)\n",
    "min_error=min(two_mse_values)\n",
    "index=two_mse_values.index(min_error)+1\n",
    "two_hyp_mse = dict()\n",
    "two_hyp_mse[index]=min_error\n",
    "# Append the second model's MSE values to this list.\n",
    "three_mse_values = list()\n",
    "three_hyp_mse = dict()\n",
    "\n",
    "for hp in hyper_params:\n",
    "    knn = KNeighborsRegressor(n_neighbors=hp, algorithm='brute')\n",
    "    knn.fit(train_df[three_features], train_df['price'])\n",
    "    predictions = knn.predict(test_df[three_features])\n",
    "    mse = mean_squared_error(test_df['price'], predictions)\n",
    "    three_mse_values.append(mse)\n",
    "min_error=min(three_mse_values)\n",
    "index=three_mse_values.index(min_error)+1\n",
    "three_hyp_mse[index]=min_error\n"
   ]
  },
  {
   "cell_type": "markdown",
   "metadata": {},
   "source": [
    "You may have noticed that the general workflow for finding the best model is:\n",
    "\n",
    "* select relevant features to use for predicting the target column.\n",
    "* use grid search to find the optimal hyperparameter value for the selected features.\n",
    "* evaluate the model's accuracy and repeat the process."
   ]
  },
  {
   "cell_type": "markdown",
   "metadata": {},
   "source": [
    "### Cross Validation\n",
    "* splitting the full dataset into 2 partitions: a training set and a test set\n",
    "* training the model on the training set,\n",
    "* using the trained model to predict labels on the test set,\n",
    "* computing an error metric to understand the model's effectiveness,\n",
    "* switch the training and test sets and repeat,\n",
    "* average the errors."
   ]
  },
  {
   "cell_type": "code",
   "execution_count": null,
   "metadata": {},
   "outputs": [],
   "source": [
    "# Use numpy.random.permutation to shuffle index of dc_listings\n",
    "import numpy as np\n",
    "import pandas as pd\n",
    "\n",
    "dc_listings = pd.read_csv(\"dc_airbnb.csv\")\n",
    "stripped_commas = dc_listings['price'].str.replace(',', '')\n",
    "stripped_dollars = stripped_commas.str.replace('$', '')\n",
    "dc_listings['price'] = stripped_dollars.astype('float')\n",
    "\n",
    "shuffled_index = np.random.permutation(dc_listings.index)\n",
    "dc_listings = dc_listings.reindex(shuffled_index)\n",
    "split_one=dc_listings.iloc[0:1862]\n",
    "split_two=dc_listings.iloc[1862:]"
   ]
  },
  {
   "cell_type": "code",
   "execution_count": null,
   "metadata": {},
   "outputs": [],
   "source": [
    "from sklearn.neighbors import KNeighborsRegressor\n",
    "from sklearn.metrics import mean_squared_error\n",
    "import numpy as np\n",
    "\n",
    "train_one = split_one\n",
    "test_one = split_two\n",
    "train_two = split_two\n",
    "test_two = split_one\n",
    "\n",
    "knn=KNeighborsRegressor(n_neighbors=5, algorithm='auto')\n",
    "\n",
    "knn.fit(train_one[['accommodates']],train_one['price'])\n",
    "predictions=knn.predict(test_one[['accommodates']])\n",
    "iteration_one_rmse = mean_squared_error(test_one['price'], predictions)**0.5\n",
    "\n",
    "\n",
    "knn.fit(train_two[['accommodates']],train_two['price'])\n",
    "predictions=knn.predict(test_two[['accommodates']])\n",
    "iteration_two_rmse = mean_squared_error(test_two['price'], predictions)**0.5\n",
    "\n",
    "avg_rmse=np.mean([iteration_one_rmse,iteration_two_rmse])"
   ]
  },
  {
   "cell_type": "code",
   "execution_count": null,
   "metadata": {},
   "outputs": [],
   "source": [
    "dc_listings.loc[dc_listings.index[0:745], \"fold\"] = 1\n",
    "dc_listings.loc[dc_listings.index[745:1490], \"fold\"] = 2\n",
    "dc_listings.loc[dc_listings.index[1490:2234], \"fold\"] = 3\n",
    "dc_listings.loc[dc_listings.index[2234:2978], \"fold\"] = 4\n",
    "dc_listings.loc[dc_listings.index[2978:3723], \"fold\"] = 5\n",
    "\n",
    "print(dc_listings['fold'].value_counts())\n",
    "print(\"\\n Num of missing values: \",dc_listings['fold'].isnull().sum())"
   ]
  },
  {
   "cell_type": "code",
   "execution_count": null,
   "metadata": {},
   "outputs": [],
   "source": [
    "from sklearn.neighbors import KNeighborsRegressor\n",
    "from sklearn.metrics import mean_squared_error\n",
    "\n",
    "knn=KNeighborsRegressor(n_neighbors=5)\n",
    "train_iteration_one=dc_listings[dc_listings['fold']!=1]\n",
    "test_iteration_one=dc_listings[dc_listings['fold']==1]\n",
    "\n",
    "\n",
    "knn.fit(train_iteration_one[['accommodates']],train_iteration_one['price'])\n",
    "\n",
    "labels=knn.predict(test_iteration_one[['accommodates']])\n",
    "\n",
    "iteration_one_rmse=mean_squared_error(labels,test_iteration_one['price'])**0.5"
   ]
  },
  {
   "cell_type": "code",
   "execution_count": null,
   "metadata": {},
   "outputs": [],
   "source": [
    "# Use np.mean to calculate the mean.\n",
    "import numpy as np\n",
    "fold_ids = [1,2,3,4,5]\n",
    "\n",
    "def train_and_validate(df,folds):\n",
    "    fold_rmses=[]\n",
    "    for fold in folds:\n",
    "        train=df[df['fold']!=fold]\n",
    "        test=df[df['fold']==fold].copy()\n",
    "        knn=KNeighborsRegressor()\n",
    "        knn.fit(train[['accommodates']],train['price'])\n",
    "        labels=knn.predict(test[[\"accommodates\"]])\n",
    "        mse=mean_squared_error(labels,test['price'])\n",
    "        rmse=mse**0.5\n",
    "        fold_rmses.append(rmse)\n",
    "    return fold_rmses\n",
    "\n",
    "rmses=train_and_validate(dc_listings,fold_ids)\n",
    "avg_rmse=np.mean(rmses)\n",
    "print(rmses,'; avg RMSE: ',avg_rmse)"
   ]
  },
  {
   "cell_type": "markdown",
   "metadata": {},
   "source": [
    "* 0.5x0.5 split >> k-fold cross-validation (separate to many equal size sets, somewhat like the Welch Periodogram)\n",
    "* Bias vs Variance trade-off"
   ]
  },
  {
   "cell_type": "markdown",
   "metadata": {},
   "source": [
    "### Speed things up using built-in Scikit k-fold class\n",
    "```\n",
    "from sklearn.model_selection import KFold\n",
    "kf = KFold(n_splits, shuffle=False, random_state=None)\n",
    "```\n",
    "\n",
    "* n_splits is the number of folds you want to use,\n",
    "* shuffle is used to toggle shuffling of the ordering of the observations in the dataset,\n",
    "* random_state is used to specify the random seed value if shuffle is set to True.\n",
    "\n",
    "```\n",
    "from sklearn.model_selection import cross_val_score\n",
    "cross_val_score(estimator, X, Y, scoring=None, cv=None)\n",
    "```\n",
    "\n",
    "* estimator is a sklearn model that implements the fit method (e.g. instance of KNeighborsRegressor),\n",
    "* X is the list or 2D array containing the features you want to train on,\n",
    "* y is a list containing the values you want to predict (target column),\n",
    "* scoring is a string describing the scoring criteria (list of accepted values here).\n",
    "* cv describes the number of folds. Here are some examples of accepted values:\n",
    "  * an instance of the KFold class,\n",
    "  * an integer representing the number of folds."
   ]
  },
  {
   "cell_type": "code",
   "execution_count": null,
   "metadata": {},
   "outputs": [],
   "source": [
    "from sklearn.model_selection import cross_val_score, KFold\n",
    "\n",
    "kf = KFold(5, shuffle=True, random_state=1)\n",
    "knn=KNeighborsRegressor()\n",
    "mses=cross_val_score(knn,dc_listings[['accommodates']],dc_listings['price'],scoring='neg_mean_squared_error',cv=kf)\n",
    "\n",
    "rmses = np.sqrt(np.absolute(mses))\n",
    "avg_rmse = np.mean(rmses)\n",
    "\n",
    "print(rmses)\n",
    "print(avg_rmse)\n"
   ]
  },
  {
   "cell_type": "code",
   "execution_count": null,
   "metadata": {},
   "outputs": [],
   "source": []
  }
 ],
 "metadata": {
  "kernelspec": {
   "display_name": "Python 3",
   "language": "python",
   "name": "python3"
  },
  "language_info": {
   "codemirror_mode": {
    "name": "ipython",
    "version": 3
   },
   "file_extension": ".py",
   "mimetype": "text/x-python",
   "name": "python",
   "nbconvert_exporter": "python",
   "pygments_lexer": "ipython3",
   "version": "3.6.5"
  }
 },
 "nbformat": 4,
 "nbformat_minor": 2
}
