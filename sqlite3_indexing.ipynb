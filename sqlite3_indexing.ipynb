{
 "cells": [
  {
   "cell_type": "code",
   "execution_count": null,
   "metadata": {},
   "outputs": [],
   "source": [
    "import sqlite3\n",
    "conn = sqlite3.connect(\"factbook.db\")\n",
    "\n",
    "c=\"\"\"\n",
    "PRAGMA TABLE_INFO(facts);\n",
    "\"\"\"\n",
    "schema = conn.execute(c).fetchall()\n",
    "for s in schema:\n",
    "    print(s)"
   ]
  },
  {
   "cell_type": "code",
   "execution_count": null,
   "metadata": {},
   "outputs": [],
   "source": [
    "import sqlite3\n",
    "conn = sqlite3.connect(\"factbook.db\")\n",
    "\n",
    "query_plan_one = conn.execute(\"EXPLAIN QUERY PLAN SELECT * FROM facts WHERE area>40000;\").fetchall()\n",
    "\n",
    "\n",
    "query_plan_two = conn.execute(\"EXPLAIN QUERY PLAN SELECT area FROM facts WHERE area>40000;\").fetchall()\n",
    "\n",
    "query_plan_three = conn.execute(\"EXPLAIN QUERY PLAN SELECT * FROM facts WHERE name='Czech Republic';\").fetchall()\n",
    "\n",
    "print(query_plan_one)\n",
    "print(query_plan_two)\n",
    "print(query_plan_three)\n"
   ]
  },
  {
   "cell_type": "code",
   "execution_count": null,
   "metadata": {},
   "outputs": [],
   "source": [
    "query_plan_six = conn.execute(\"EXPLAIN QUERY PLAN SELECT * FROM facts WHERE population>10000;\").fetchall()\n",
    "\n",
    "print(query_plan_six)\n",
    "\n",
    "conn.execute(\"CREATE INDEX pop_idx ON facts(population);\")\n",
    "\n",
    "query_plan_seven = conn.execute(\"EXPLAIN QUERY PLAN SELECT * FROM facts WHERE population>10000;\").fetchall()\n",
    "\n",
    "print(query_plan_seven)"
   ]
  },
  {
   "cell_type": "code",
   "execution_count": null,
   "metadata": {},
   "outputs": [],
   "source": [
    "query_plan_one = conn.execute(\"EXPLAIN QUERY PLAN SELECT * FROM facts WHERE population>1000000 and population_growth <0.05;\").fetchall()\n",
    "\n",
    "print(query_plan_one)"
   ]
  },
  {
   "cell_type": "code",
   "execution_count": null,
   "metadata": {},
   "outputs": [],
   "source": [
    "conn = sqlite3.connect(\"factbook.db\")\n",
    "\n",
    "# Create index columns\n",
    "conn.execute(\"CREATE INDEX pop_growth_index ON facts(population_growth);\")\n",
    "\n",
    "query_plan_two = conn.execute(\"EXPLAIN QUERY PLAN SELECT * FROM facts WHERE population>1000000 and population_growth <0.05;\").fetchall()\n",
    "\n",
    "print(query_plan_two)"
   ]
  },
  {
   "cell_type": "markdown",
   "metadata": {},
   "source": [
    "### Create a Multi-column index"
   ]
  },
  {
   "cell_type": "code",
   "execution_count": null,
   "metadata": {},
   "outputs": [],
   "source": [
    "conn.execute(\"CREATE INDEX pop_pop_growth_idx ON facts(population, population_growth);\")\n",
    "\n",
    "query_plan_three = conn.execute(\"EXPLAIN QUERY PLAN SELECT * FROM facts WHERE population>1000000 and population_growth <0.05;\").fetchall()\n",
    "\n",
    "print(query_plan_three)\n",
    "\n"
   ]
  },
  {
   "cell_type": "code",
   "execution_count": null,
   "metadata": {},
   "outputs": [],
   "source": [
    "conn.execute(\"CREATE INDEX pop_pop_growth_idx ON facts(population, population_growth);\")\n",
    "\n",
    "query_plan_five = conn.execute(\"EXPLAIN QUERY PLAN SELECT population FROM facts WHERE population>1000000;\").fetchall()\n",
    "\n",
    "print(query_plan_five)"
   ]
  }
 ],
 "metadata": {
  "kernelspec": {
   "display_name": "Python 3",
   "language": "python",
   "name": "python3"
  },
  "language_info": {
   "codemirror_mode": {
    "name": "ipython",
    "version": 3
   },
   "file_extension": ".py",
   "mimetype": "text/x-python",
   "name": "python",
   "nbconvert_exporter": "python",
   "pygments_lexer": "ipython3",
   "version": "3.6.5"
  }
 },
 "nbformat": 4,
 "nbformat_minor": 2
}
