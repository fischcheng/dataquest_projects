{
 "cells": [
  {
   "cell_type": "code",
   "execution_count": null,
   "metadata": {},
   "outputs": [],
   "source": [
    "import pandas as pd\n",
    "import numpy as np\n",
    "# Print the first two rows of the data.\n",
    "print(flags[:2])\n",
    "\n",
    "most_bars_country=flags.name[flags.bars==flags.bars.max()]\n",
    "\n",
    "highest_population_country=flags.name[flags.population==flags.population.max()]"
   ]
  },
  {
   "cell_type": "code",
   "execution_count": null,
   "metadata": {},
   "outputs": [],
   "source": [
    "total_countries = flags.shape[0]\n",
    "\n",
    "orange_probability = len(flags[flags.orange==1])/total_countries\n",
    "stripe_probability = len(flags[flags.stripes>1])/total_countries\n"
   ]
  },
  {
   "cell_type": "code",
   "execution_count": null,
   "metadata": {},
   "outputs": [],
   "source": [
    "import pandas\n",
    "bikes = pandas.read_csv(\"bike_rental_day.csv\")\n",
    "\n",
    "# Find the number of days the bikes rented exceeded the threshold.\n",
    "days_over_threshold = bikes[bikes[\"cnt\"] > 4000].shape[0]\n",
    "# Find the total number of days we have data for.\n",
    "total_days = bikes.shape[0]\n",
    "\n",
    "# Get the probability that more than 2000 bikes were rented for any given day.\n",
    "\n",
    "probability_over_4000 = days_over_threshold / total_days\n",
    "print(probability_over_4000)"
   ]
  },
  {
   "cell_type": "code",
   "execution_count": null,
   "metadata": {},
   "outputs": [],
   "source": [
    "import math\n",
    "def find_outcome_combinations(N, k):\n",
    "    # Calculate the numerator of our formula.\n",
    "    numerator = math.factorial(N)\n",
    "    # Calculate the denominator.\n",
    "    denominator = math.factorial(k) * math.factorial(N - k)\n",
    "    # Divide them to get the final value.\n",
    "    return numerator / denominator\n",
    "\n",
    "combinations_8 = find_outcome_combinations(10, 8)\n",
    "combinations_9 = find_outcome_combinations(10, 9)"
   ]
  },
  {
   "cell_type": "code",
   "execution_count": null,
   "metadata": {},
   "outputs": [],
   "source": [
    "p = .6\n",
    "q = .4\n",
    "\n",
    "import math\n",
    "def find_outcome_combinations(N, k):\n",
    "    # Calculate the numerator of our formula.\n",
    "    numerator = math.factorial(N)\n",
    "    # Calculate the denominator.\n",
    "    denominator = math.factorial(k) * math.factorial(N - k)\n",
    "    # Divide them to get the final value.\n",
    "    return numerator / denominator\n",
    "\n",
    "\n",
    "def find_prob(N,k,p,q):\n",
    "    if N==0:\n",
    "        exit\n",
    "    else:\n",
    "        return find_outcome_combinations(N,k)*(p**k)*q**(N-k)\n",
    "\n",
    "prob_8=find_prob(10,8,p,q)\n",
    "prob_9=find_prob(10,9,p,q)\n",
    "prob_10=find_prob(10,10,p,q)\n"
   ]
  },
  {
   "cell_type": "markdown",
   "metadata": {},
   "source": [
    "### Binomial Distribution bike rental in DC"
   ]
  },
  {
   "cell_type": "code",
   "execution_count": null,
   "metadata": {},
   "outputs": [],
   "source": [
    "import pandas\n",
    "bikes = pandas.read_csv(\"bike_rental_day.csv\")\n",
    "\n",
    "prob_over_5000=len(bikes[bikes['cnt']>5000])/len(bikes)"
   ]
  },
  {
   "cell_type": "code",
   "execution_count": 9,
   "metadata": {},
   "outputs": [],
   "source": [
    "import math\n",
    "def combi(N,k):\n",
    "    combinations=math.factorial(N)/math.factorial(k)/math.factorial(N-k)\n",
    "    return int(combinations)"
   ]
  },
  {
   "cell_type": "code",
   "execution_count": 14,
   "metadata": {},
   "outputs": [
    {
     "data": {
      "text/plain": [
       "1"
      ]
     },
     "execution_count": 14,
     "metadata": {},
     "output_type": "execute_result"
    }
   ],
   "source": [
    "def prob_binomial(N,k,p,q):\n",
    "    probability= p**k*q**(N-k)*combi(N,k)\n",
    "    return probability\n",
    "\n",
    "# Each item in this list represents one k, starting from 0 and going up to and including 30.\n",
    "outcome_counts = list(range(31))\n",
    "outcome_probs = [prob_binomial(30,x,0.39,0.61) for x in outcome_counts]"
   ]
  },
  {
   "cell_type": "code",
   "execution_count": null,
   "metadata": {},
   "outputs": [],
   "source": [
    "import scipy\n",
    "from scipy import linspace\n",
    "from scipy.stats import binom\n",
    "\n",
    "# Create a range of numbers from 0 to 30, with 31 elements (each number has one entry).\n",
    "outcome_counts = linspace(0,30,31)\n",
    "\n",
    "distribution=binom.pmf(outcome_counts,30,0.39)\n",
    "\n",
    "import matplotlib.pyplot as plt\n",
    "plt.bar(outcome_counts,distribution)\n",
    "plt.show()"
   ]
  },
  {
   "cell_type": "code",
   "execution_count": null,
   "metadata": {},
   "outputs": [],
   "source": [
    "import scipy\n",
    "from scipy import linspace\n",
    "from scipy.stats import binom\n",
    "\n",
    "# Enter your answer here.\n",
    "outcome_counts = linspace(0,10,11)\n",
    "plt.bar(outcome_counts,binom.pmf(outcome_counts,10,.39))\n",
    "plt.show()\n",
    "\n",
    "\n",
    "outcome_counts = linspace(0,100,101)\n",
    "plt.bar(outcome_counts,binom.pmf(outcome_counts,100,.39))\n",
    "plt.show()\n"
   ]
  },
  {
   "cell_type": "code",
   "execution_count": null,
   "metadata": {},
   "outputs": [],
   "source": [
    "outcome_counts = linspace(0,30,31)\n",
    "\n",
    "dist = binom.cdf(outcome_counts,30,.39)\n",
    "\n",
    "plt.plot(outcome_counts,dist)\n",
    "plt.show()"
   ]
  },
  {
   "cell_type": "markdown",
   "metadata": {},
   "source": [
    "### Notes:\n",
    "* pmf: probability mass function (discrete distribution in occurences)\n",
    "* cdf: cumulative density function (cumulative distribution in density sense (total sum up to 1))\n",
    "* "
   ]
  },
  {
   "cell_type": "markdown",
   "metadata": {},
   "source": [
    "### Hypothesis test"
   ]
  },
  {
   "cell_type": "code",
   "execution_count": null,
   "metadata": {},
   "outputs": [],
   "source": [
    "import numpy as np\n",
    "import matplotlib.pyplot as plt\n",
    "\n",
    "mean_group_a=np.mean(weight_lost_a)\n",
    "print(mean_group_a)\n",
    "\n",
    "mean_group_b=np.mean(weight_lost_b)\n",
    "print(mean_group_b)\n",
    "\n",
    "plt.hist(weight_lost_a)\n",
    "plt.hist(weight_lost_b)\n",
    "plt.show()"
   ]
  },
  {
   "cell_type": "code",
   "execution_count": null,
   "metadata": {},
   "outputs": [],
   "source": [
    "mean_difference=mean_group_b-mean_group_a\n",
    "print(mean_difference)"
   ]
  },
  {
   "cell_type": "code",
   "execution_count": null,
   "metadata": {},
   "outputs": [],
   "source": [
    "print(all_values)\n",
    "mean_differences=[]\n",
    "\n",
    "for i in range(1000):\n",
    "    group_a=[]\n",
    "    group_b=[]\n",
    "    for value in all_values:\n",
    "        if np.random.rand()>=0.5:\n",
    "            group_a.append(value)\n",
    "        else:\n",
    "            group_b.append(value)           \n",
    "    iteration_mean_difference=np.mean(group_b)-np.mean(group_a)\n",
    "    mean_differences.append(iteration_mean_difference)\n",
    "    \n",
    "plt.hist(mean_differences)\n",
    "plt.show()\n"
   ]
  },
  {
   "cell_type": "code",
   "execution_count": null,
   "metadata": {},
   "outputs": [],
   "source": [
    "# Map the occurences to a dictionary >> a very useful pattern\n",
    "sampling_distribution={}\n",
    "\n",
    "for dif in mean_differences:\n",
    "    if sampling_distribution.get(dif,False):\n",
    "        sampling_distribution[dif]+=1\n",
    "    else:\n",
    "        sampling_distribution[dif]=1"
   ]
  },
  {
   "cell_type": "code",
   "execution_count": null,
   "metadata": {},
   "outputs": [],
   "source": [
    "frequencies=[]\n",
    "for key, value in sampling_distribution.items():\n",
    "    if key >= 2.52:\n",
    "        frequencies.append(value)\n",
    "p_value=np.sum(frequencies)/1000\n",
    "    "
   ]
  },
  {
   "cell_type": "markdown",
   "metadata": {},
   "source": [
    "#### Notes:\n",
    "* define the Null hypothesis and alternative\n",
    "* decide a test statistic (a parameter to test upon)\n",
    "* Permutation test (a way to simulate random sampling)\n",
    "* To check if a key exists in a dictionary, we need to use the get() method to: dict.get(key,alternate)\n",
    "\n",
    "\n",
    "\n"
   ]
  },
  {
   "cell_type": "markdown",
   "metadata": {},
   "source": [
    "### Chi-square test"
   ]
  },
  {
   "cell_type": "code",
   "execution_count": null,
   "metadata": {},
   "outputs": [],
   "source": [
    "chi_squared_values = []\n",
    "\n",
    "for i in range(1000):\n",
    "    rand=numpy.random.random((32561,))\n",
    "    gender=[0 if x<0.5 else 1 for x in rand]\n",
    "    Male=gender.count(0)\n",
    "    Female=gender.count(1)\n",
    "    \n",
    "    expected=32561./2.\n",
    "    male_diff=(Male-expected)**2/expected\n",
    "    female_diff=(Female-expected)**2/expected\n",
    "    \n",
    "    chi_squared_values.append(male_diff+female_diff)\n",
    "    \n",
    "plt.hist(chi_squared_values)\n",
    "plt.show()\n",
    "    "
   ]
  },
  {
   "cell_type": "code",
   "execution_count": 15,
   "metadata": {},
   "outputs": [],
   "source": [
    "diffs = []\n",
    "observed = [27816, 3124, 1039, 311, 271]\n",
    "expected = [26146.5, 3939.9, 944.3, 260.5, 1269.8]\n",
    "\n",
    "for i, obs in enumerate(observed):\n",
    "    exp = expected[i]\n",
    "    diff = (obs - exp) ** 2 / exp\n",
    "    diffs.append(diff)\n",
    "    \n",
    "race_chisq = sum(diffs)\n",
    "\n"
   ]
  },
  {
   "cell_type": "code",
   "execution_count": null,
   "metadata": {},
   "outputs": [],
   "source": [
    "from scipy.stats import chisquare\n",
    "import numpy as np\n",
    "observed = [27816, 3124, 1039, 311, 271]\n",
    "expected = [26146.5, 3939.9, 944.3, 260.5, 1269.8]\n",
    "chisquare_value, race_pvalue=chisquare(observed,expected)"
   ]
  },
  {
   "cell_type": "code",
   "execution_count": null,
   "metadata": {},
   "outputs": [],
   "source": []
  },
  {
   "cell_type": "markdown",
   "metadata": {},
   "source": [
    "#### Notes:\n",
    "* Sum up fractional square difference.\n",
    "* Use scipy to generate Chisquare distribution and p-value\n"
   ]
  },
  {
   "cell_type": "markdown",
   "metadata": {},
   "source": [
    "### Multivariable Chisqr"
   ]
  },
  {
   "cell_type": "code",
   "execution_count": 16,
   "metadata": {},
   "outputs": [],
   "source": [
    "expected=[5249.8,2597.4,16533.5,8180.3]\n",
    "observed=[6662,1179,15128,9592]\n",
    "\n",
    "chisq_gender_income=[]\n",
    "\n",
    "for o,e in zip(observed,expected):\n",
    "    chisq=(o-e)**2/e\n",
    "    chisq_gender_income.append(chisq)"
   ]
  },
  {
   "cell_type": "code",
   "execution_count": null,
   "metadata": {},
   "outputs": [],
   "source": [
    "import numpy as np\n",
    "from scipy.stats import chisquare\n",
    "\n",
    "observed = np.array([6662,1179,15128,9592])\n",
    "expected = np.array([5249.8,2597.4,16533.5,8180.3])\n",
    "chisquare_value, pvalue_gender_income = chisquare(observed, expected)"
   ]
  },
  {
   "cell_type": "code",
   "execution_count": null,
   "metadata": {},
   "outputs": [],
   "source": [
    "import pandas\n",
    "\n",
    "table = pandas.crosstab(income[\"sex\"], [income[\"race\"]])\n",
    "print(table)"
   ]
  },
  {
   "cell_type": "code",
   "execution_count": null,
   "metadata": {},
   "outputs": [],
   "source": [
    "import numpy as np\n",
    "from scipy.stats import chi2_contingency\n",
    "observed = np.array([[5, 5], [10, 10]])\n",
    "table = pandas.crosstab(income[\"sex\"], [income[\"race\"]])\n",
    "chisq_value, pvalue_gender_race, df, expected = chi2_contingency(table)\n"
   ]
  }
 ],
 "metadata": {
  "kernelspec": {
   "display_name": "Python 3",
   "language": "python",
   "name": "python3"
  },
  "language_info": {
   "codemirror_mode": {
    "name": "ipython",
    "version": 3
   },
   "file_extension": ".py",
   "mimetype": "text/x-python",
   "name": "python",
   "nbconvert_exporter": "python",
   "pygments_lexer": "ipython3",
   "version": "3.6.5"
  }
 },
 "nbformat": 4,
 "nbformat_minor": 2
}
